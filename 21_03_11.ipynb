{
  "nbformat": 4,
  "nbformat_minor": 0,
  "metadata": {
    "colab": {
      "name": "21-03-11.ipynb",
      "provenance": [],
      "authorship_tag": "ABX9TyMD3f/yx1Hj9lzHvJEdfUoC",
      "include_colab_link": true
    },
    "kernelspec": {
      "name": "python3",
      "display_name": "Python 3"
    }
  },
  "cells": [
    {
      "cell_type": "markdown",
      "metadata": {
        "id": "view-in-github",
        "colab_type": "text"
      },
      "source": [
        "<a href=\"https://colab.research.google.com/github/solutionCraftsman/data-science-py/blob/main/21_03_11.ipynb\" target=\"_parent\"><img src=\"https://colab.research.google.com/assets/colab-badge.svg\" alt=\"Open In Colab\"/></a>"
      ]
    },
    {
      "cell_type": "code",
      "metadata": {
        "id": "yOY9Ek72mdDx"
      },
      "source": [
        "users = [\n",
        "  { \"id\": 0, \"name\": \"Hero\" },\n",
        "  { \"id\": 1, \"name\": \"Dunn\" },\n",
        "  { \"id\": 2, \"name\": \"Sue\" },\n",
        "  { \"id\": 3, \"name\": \"Chi\" },\n",
        "  { \"id\": 4, \"name\": \"Thor\" },\n",
        "  { \"id\": 5, \"name\": \"Clive\" },\n",
        "  { \"id\": 6, \"name\": \"Hicks\" },\n",
        "  { \"id\": 7, \"name\": \"Devin\" },\n",
        "  { \"id\": 8, \"name\": \"Kate\" },\n",
        "  { \"id\": 9, \"name\": \"Klein\" }\n",
        "]"
      ],
      "execution_count": null,
      "outputs": []
    },
    {
      "cell_type": "code",
      "metadata": {
        "id": "1TiXDjE4mlL_"
      },
      "source": [
        "friendships = [(0, 1), (0, 2), (1, 2), (1, 3), (2, 3), (3, 4), (4, 5), (5, 6), (5, 7), (6, 8), (7, 8), (8, 9)]"
      ],
      "execution_count": null,
      "outputs": []
    },
    {
      "cell_type": "code",
      "metadata": {
        "colab": {
          "base_uri": "https://localhost:8080/"
        },
        "id": "ABU4pEjDtv5O",
        "outputId": "84d4ab7e-0382-4b3b-e4af-afd4e646e0d1"
      },
      "source": [
        "friendships"
      ],
      "execution_count": null,
      "outputs": [
        {
          "output_type": "execute_result",
          "data": {
            "text/plain": [
              "[(0, 1),\n",
              " (0, 2),\n",
              " (1, 2),\n",
              " (1, 3),\n",
              " (2, 3),\n",
              " (3, 4),\n",
              " (4, 5),\n",
              " (5, 6),\n",
              " (5, 7),\n",
              " (6, 8),\n",
              " (7, 8),\n",
              " (8, 9)]"
            ]
          },
          "metadata": {
            "tags": []
          },
          "execution_count": 46
        }
      ]
    },
    {
      "cell_type": "code",
      "metadata": {
        "id": "AlgeBikct1cX",
        "colab": {
          "base_uri": "https://localhost:8080/"
        },
        "outputId": "91ea963b-cb9e-4ffc-8451-e5db601fe575"
      },
      "source": [
        "users"
      ],
      "execution_count": null,
      "outputs": [
        {
          "output_type": "execute_result",
          "data": {
            "text/plain": [
              "[{'id': 0, 'name': 'Hero'},\n",
              " {'id': 1, 'name': 'Dunn'},\n",
              " {'id': 2, 'name': 'Sue'},\n",
              " {'id': 3, 'name': 'Chi'},\n",
              " {'id': 4, 'name': 'Thor'},\n",
              " {'id': 5, 'name': 'Clive'},\n",
              " {'id': 6, 'name': 'Hicks'},\n",
              " {'id': 7, 'name': 'Devin'},\n",
              " {'id': 8, 'name': 'Kate'},\n",
              " {'id': 9, 'name': 'Klein'}]"
            ]
          },
          "metadata": {
            "tags": []
          },
          "execution_count": 47
        }
      ]
    },
    {
      "cell_type": "code",
      "metadata": {
        "colab": {
          "base_uri": "https://localhost:8080/"
        },
        "id": "Md48HllamwtW",
        "outputId": "795ebf36-fc63-47a4-ef24-4bb4388726b6"
      },
      "source": [
        "for user in users:\n",
        "  user[\"friends\"] = []\n",
        "\n",
        "for i, j in friendships:\n",
        "  # this works because users[i] is the user whose id is i  \n",
        "  users[i][\"friends\"].append(j) # add i as a friend of j\n",
        "  users[j][\"friends\"].append(i) # add j as a friend of i\n",
        "\n",
        "# users[0].get(\"name\")\n",
        "# users[0][\"name\"]\n",
        "# friendships[0]\n",
        "# users[0][\"friends\"]\n",
        "users"
      ],
      "execution_count": null,
      "outputs": [
        {
          "output_type": "execute_result",
          "data": {
            "text/plain": [
              "[{'friends': [1, 2], 'id': 0, 'name': 'Hero'},\n",
              " {'friends': [0, 2, 3], 'id': 1, 'name': 'Dunn'},\n",
              " {'friends': [0, 1, 3], 'id': 2, 'name': 'Sue'},\n",
              " {'friends': [1, 2, 4], 'id': 3, 'name': 'Chi'},\n",
              " {'friends': [3, 5], 'id': 4, 'name': 'Thor'},\n",
              " {'friends': [4, 6, 7], 'id': 5, 'name': 'Clive'},\n",
              " {'friends': [5, 8], 'id': 6, 'name': 'Hicks'},\n",
              " {'friends': [5, 8], 'id': 7, 'name': 'Devin'},\n",
              " {'friends': [6, 7, 9], 'id': 8, 'name': 'Kate'},\n",
              " {'friends': [8], 'id': 9, 'name': 'Klein'}]"
            ]
          },
          "metadata": {
            "tags": []
          },
          "execution_count": 35
        }
      ]
    },
    {
      "cell_type": "code",
      "metadata": {
        "colab": {
          "base_uri": "https://localhost:8080/"
        },
        "id": "JBQjAKg9mvw6",
        "outputId": "28693808-a801-4f0e-b764-9f79fe8934ef"
      },
      "source": [
        "def number_of_friends(user):\n",
        "  \"\"\"how many friends does _user_ have?\"\"\"\n",
        "  return len(user[\"friends\"]) # length of friend_ids list\n",
        "\n",
        "total_conn = sum(number_of_friends(user) for user in users)\n",
        "total_conn"
      ],
      "execution_count": null,
      "outputs": [
        {
          "output_type": "execute_result",
          "data": {
            "text/plain": [
              "24"
            ]
          },
          "metadata": {
            "tags": []
          },
          "execution_count": 38
        }
      ]
    },
    {
      "cell_type": "code",
      "metadata": {
        "colab": {
          "base_uri": "https://localhost:8080/"
        },
        "id": "JZqrWJtgnCgw",
        "outputId": "7ce199f2-b60b-4508-bb89-0d7fd32d3ed8"
      },
      "source": [
        "# Find the mean of all connections\n",
        "\n",
        "total_users = len(users)\n",
        "mean = total_conn / total_users\n",
        "mean"
      ],
      "execution_count": null,
      "outputs": [
        {
          "output_type": "execute_result",
          "data": {
            "text/plain": [
              "2.4"
            ]
          },
          "metadata": {
            "tags": []
          },
          "execution_count": 40
        }
      ]
    }
  ]
}